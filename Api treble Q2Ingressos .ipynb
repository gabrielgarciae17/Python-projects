import requests 
import pandas as pd
import json
import datetime 
from datetime import datetime, timedelta    

def corrigedata(data):  

  import dateutil.parser
  import datetime
  from datetime import datetime, timedelta

  try:
    d = dateutil.parser.parse(data)-timedelta(hours=3)
    d = (d.strftime('%d/%m/%Y %H:%M:%S'))
    return d
  except:
    d = ""
    return d

def corrigelabels(campo):
  stringreturn = ""
  try:
    a = pd.json_normalize(campo)['name']
  except:
    stringreturn =""
    return stringreturn
  count = 0
  for i in a:
    if count >0:
      stringreturn = stringreturn + "," + i 
    else: 
      stringreturn =  i
      count = 1
  return stringreturn
  
base = pd.DataFrame() 
i=0
url = "https://agent-api.treble.ai/admin/conversations"
token = "Bearer"
x = 0 

for i in range(50):
  
  header = {
      'Authorization': token }

  params = {
    'offset': x ,
    'limit': 5000,
  }


  response = requests.get( url, headers=header, params=params)
  
  x = 5000+ x
  basef = pd.json_normalize(response.json())
  base = base.append(basef)

base = base.reset_index()

I = 0 
for i in range(len(base['id'])):
  base['labels'][i] = corrigelabels(base['labels'][i])
  base['agent_first_message'][i] = corrigedata(base['agent_first_message'][i])
  base['created_at'][i] = corrigedata(base['created_at'][i])
  base['finished_at'][i] = corrigedata(base['finished_at'][i])
  base['assigned_at'][i] = corrigedata(base['assigned_at'][i])
  base['last_message'][i] = corrigedata(base['last_message'][i])
  
 ##
 
 import pandas as pd

from google.colab import auth
auth.authenticate_user()

import gspread
import gspread_dataframe as gd
from google.auth import default
creds, _ = default()

gc = gspread.authorize(creds)

#inserir na planilha


sh = gc.open("API treble Q2Ingressos")
worksheet = sh.worksheet('API treble')
gd.set_with_dataframe(worksheet,base)
print('Planilha atualizada, dash atualizado!')
