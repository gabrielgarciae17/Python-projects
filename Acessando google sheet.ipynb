import pandas as pd

from google.colab import auth
auth.authenticate_user()

import gspread

from google.auth import default
creds, _ = default()

gc = gspread.authorize(creds)

# Abrindo a planilha e as abas

spreadsheet = gc.open('Atendimentos - Relacionamento')
worksheet = spreadsheet.worksheet('Leon')
worksheet2 = spreadsheet.worksheet('Brenda')
worksheet3 = spreadsheet.worksheet('Alex')
worksheet4 = spreadsheet.worksheet('Luiz Felipe')
worksheet5 = spreadsheet.worksheet('Ana Laura')
worksheet6 = spreadsheet.worksheet('Ligia')
worksheet7 = spreadsheet.worksheet('Karine')
worksheet8 = spreadsheet.worksheet('Eliane')
worksheet9 = spreadsheet.worksheet('Humberto')

worksheet9.row_values(1)

##

# Criando um DataFrame de cada aba e adicionando o nome do agent

leon = pd.DataFrame(worksheet.get_all_records())
leon = leon.assign(agent='Leon')
leon = leon.assign(email='leon.coelho@q2pay.com.br')

brenda = pd.DataFrame(worksheet2.get_all_records())
brenda = brenda.assign(agent='Brenda')
brenda = brenda.assign(email='brenda.borges@q2pay.com.br')

alex = pd.DataFrame(worksheet3.get_all_records())
alex = alex.assign(agent='Alex')
alex = alex.assign(email='alex.souza@q2pay.com.br')

luiz_felipe = pd.DataFrame(worksheet4.get_all_records())
luiz_felipe = luiz_felipe.assign(agent='Luiz Felipe')
luiz_felipe = luiz_felipe.assign(email='luiz.cezar@q2pay.com.br')

ana_laura = pd.DataFrame(worksheet5.get_all_records())
ana_laura = ana_laura.assign(agent='Ana Laura')
ana_laura = ana_laura.assign(email='analaura.torres@q2pay.com.br')

ligia = pd.DataFrame(worksheet6.get_all_records())
ligia = ligia.assign(agent='Ligia')
ligia = ligia.assign(email='ligia.tamelline@q2pay.com.br')

karine = pd.DataFrame(worksheet7.get_all_records())
karine = karine.assign(agent='Karine')
karine = karine.assign(email='karine.vaz@q2pay.com.br')

eliane = pd.DataFrame(worksheet8.get_all_records())
eliane = eliane.assign(agent='Eliane')
eliane = eliane.assign(email='eliane.medeiros@q2pay.com.br')

humberto = pd.DataFrame(worksheet9.get_all_records())
humberto = humberto.assign(agent='Humberto')
humberto = humberto.assign(email='humberto.reis@q2pay.com.br')

leon.head()

##

dados = pd.DataFrame()
dados = dados.append(leon)
dados = dados.append(brenda)
dados = dados.append(alex)
dados = dados.append(luiz_felipe)
dados = dados.append(ana_laura)
dados = dados.append(ligia)
dados = dados.append(karine)
dados = dados.append(eliane)
dados = dados.append(humberto)
dados

##

import gspread_dataframe as gd

# Connecting with `gspread` here

ws = gc.open("Atendimentos - Relacionamento").worksheet("Resultado total")
existing = gd.get_as_dataframe(ws)
#updated = existing.append(dados)
gd.set_with_dataframe(ws, dados)
print("Planilha atualizada")
