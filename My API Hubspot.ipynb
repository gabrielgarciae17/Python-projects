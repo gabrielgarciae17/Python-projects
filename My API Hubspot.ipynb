import pandas as pd
import json
import requests

tentativas = 0
while True:
    if tentativas == 0:
        api_key = 'secret'
        url = 'https://api.hubapi.com/crm/v3/objects/tickets?limit=10&archived=false&hapikey={}'.format(api_key)
        propriedades = [
            'sla_backoffice',
            'sla_antifraude',
            'sla_backoffice',
            'sla_beblue',
            'sla_chargeback',
            'sla_compras',
            'sla_credenciamento',
            'sla_cx',
            'sla_financeiro',
            'sla_gente_e_gestao',
            'sla_juridico',
            'sla_licenciado_farming',
            'sla_licenciado_onboarding',
            'sla_licenciado_suporte',
            'sla_logistica',
            'sla_marketing',
            'sla_relacionamento',
            'sla_reversa',
            'sla_risco_onboarding',
            'sla_suporte',
            'sla_suporte_ti',
            'sla_vendas',
            'data_de_entrada_antifraude',
            'data_de_entrada_backoffice',
            'data_de_entrada_beblue',
            'data_de_entrada_chargeback',
            'data_de_entrada_compras',
            'data_de_entrada_credenciamento',
            'data_de_entrada_cx',
            'data_de_entrada_financeiro',
            'data_de_entrada_gente_e_gestao',
            'data_de_entrada_juridico',
            'data_de_entrada_licenciado_farming',
            'data_de_entrada_licenciado_onboarding',
            'data_de_entrada_licenciado_suporte',
            'data_de_entrada_logistica',
            'data_de_entrada_marketing',
            'data_de_entrada_no_cx',
            'data_de_entrada_relacionamento',
            'data_de_entrada_reversa',
            'data_de_entrada_risco_onboarding',
            'data_de_entrada_suporte',
            'data_de_entrada_suporte_ti',
            'data_de_entrada_vendas',
            'data_de_saida_antifraude',
            'data_de_saida_backoffice',
            'data_de_saida_beblue',
            'data_de_saida_chargeback',
            'data_de_saida_compras',
            'data_de_saida_credenciamento',
            'data_de_saida_cx',
            'data_de_saida_financeiro',
            'data_de_saida_gente_e_gestao',
            'data_de_saida_juridico',
            'data_de_saida_licenciado_farming',
            'data_de_saida_licenciado_onboarding',
            'data_de_saida_licenciado_suporte',
            'data_de_saida_logistica',
            'data_de_saida_marketing',
            'data_de_saida_relacionamento',
            'data_de_saida_reversa',
            'data_de_saida_risco_onboarding',
            'data_de_saida_suporte',
            'data_de_saida_suporte_ti',
            'data_de_saida_vendas']

        headers = {'Content-Type': 'application/json'}
        params = {'limit': 100, 'properties': propriedades}

        response = requests.get(url, headers=headers, params=params)
        response = response.json()
        #print(response)

        after = response['paging']['next']['after']
        dados = pd.DataFrame()
        dados = dados.append(pd.json_normalize(response['results']))
        #display(dados)
        tentativas = tentativas + 1
        
    # elif tentativas > 0:
          
       # url = 'https://api.hubapi.com/crm/v3/objects/tickets?limit=10&archived=false&hapikey={}'.format(api_key)
       # params = {'limit':100, 'after': after, 'properties': propriedades}
       # response = requests.get(url, headers=headers, params=params)
       # response = response.json()
        
       # try:
        #    after = response['paging']['next']['after']
        #except:
         #   after = ""
        #tentativas = tentativas + 1
        #try:
         #   dados = dados.append(pd.json_normalize(response['results']))
        #except:
         #   break
#print(tentativas)
--
#conectar na conta google
#filtroCX = ['Vendas','Backoffice','Suporte']
#filtroCX = ['Vendas','Backoffice','Suporte']
#baseCX = base.query("tag in filtro CX")
from google.colab import drive
import pandas as pd 
from google.colab import auth
from datetime import datetime
auth.authenticate_user()
import gspread
import gspread_dataframe as gd
from oauth2client.client import GoogleCredentials
gc = gspread.authorize(GoogleCredentials.get_application_default())
--
#inserir na planilha
sh = gc.open("My API Hubspot")
worksheet = sh.worksheet('Página1')
gd.set_with_dataframe(worksheet,dados)
print('Planilha atualizada, dash atualizado!')
